{
 "cells": [
  {
   "cell_type": "code",
   "execution_count": 1,
   "metadata": {},
   "outputs": [],
   "source": [
    "import numpy as np\n",
    "import matplotlib.pyplot as plt\n"
   ]
  },
  {
   "cell_type": "markdown",
   "metadata": {},
   "source": [
    "# Kepplerjev problem\n",
    "\n",
    "<img src=\"imgs/solarSystem.png\" style=\"width:600px; margin:0px;\">\n",
    "\n",
    "**Enačba gibanja**\n",
    "\n",
    "$ m \\,\\mathbf{a} = \\mathbf{F_g} = - G \\frac{m M}{r^2} \\frac{\\mathbf{r}}{r}$"
   ]
  },
  {
   "cell_type": "code",
   "execution_count": 2,
   "metadata": {},
   "outputs": [
    {
     "name": "stdout",
     "output_type": "stream",
     "text": [
      "dt = 5e-06\n"
     ]
    }
   ],
   "source": [
    "k = 1 # G*M\n",
    "\n",
    "# Začetni pogoji:\n",
    "t = [0] # [s]\n",
    "r = [[1, 0]] # začetna lega\n",
    "v = [[0, .4]] # začetna hitrost\n",
    "\n",
    "# Račun s končnimi diferencami:\n",
    "t_final = 5\n",
    "N = 1000000\n",
    "\n",
    "dt = t_final/N # velikost časovnega koraka [s]\n",
    "print(f'dt = {dt}')\n",
    "\n",
    "def distance(p1,p2):\n",
    "    \"\"\" Izračuna razdaljo med točkama p1 in p2 \"\"\"\n",
    "    \n",
    "    return np.sqrt( (p1[0]-p2[0])**2 + (p1[1]-p2[1])**2 )\n",
    "\n",
    "def iterationStep(t1, r1, v1, dt):\n",
    "    \"\"\" Naredi korak iteracije \"\"\"\n",
    "    \n",
    "    x1, y1 = r1\n",
    "    vx1, vy1 = v1\n",
    "    \n",
    "    R = distance([0,0], r1)\n",
    "    a = [-k*x1/R**3, -k*y1/R**3]\n",
    "    \n",
    "    vx2, vy2 = vx1 + a[0]*dt, vy1 + a[1]*dt\n",
    "    x2, y2 = x1 + vx1*dt, y1 + vy1*dt\n",
    "    \n",
    "    return t1+dt, [x2, y2], [vx2, vy2]\n",
    "\n",
    "for i in range(N):\n",
    "    \n",
    "    iterationStep\n",
    "    \n",
    "    t2, r2, v2 = iterationStep(t[-1], r[-1], v[-1], dt)\n",
    "\n",
    "    t.append(t2)\n",
    "    r.append(r2)\n",
    "    v.append(v2)\n",
    "\n",
    "r = np.array(r)\n",
    "v = np.array(v)\n"
   ]
  },
  {
   "cell_type": "code",
   "execution_count": 3,
   "metadata": {},
   "outputs": [
    {
     "data": {
      "text/plain": [
       "(-0.14176367374566184,\n",
       " 1.062142347169399,\n",
       " -0.3261189760950101,\n",
       " 0.3253084539082648)"
      ]
     },
     "execution_count": 3,
     "metadata": {},
     "output_type": "execute_result"
    },
    {
     "data": {
      "image/png": "[encoded data removed]",
      "text/plain": [
       "<Figure size 576x576 with 1 Axes>"
      ]
     },
     "metadata": {
      "needs_background": "light"
     },
     "output_type": "display_data"
    }
   ],
   "source": [
    "# Opazuj vezane in nevezane orbite\n",
    "\n",
    "plt.figure(figsize=(8,8))\n",
    "\n",
    "plt.plot(r[:,0], r[:,1], label='orbita lažjega telesa (Zemlja)')\n",
    "plt.plot(0,0, '.', color='orange', ms=20, label='masivno telo (Sonce)')\n",
    "plt.legend(loc='upper left')\n",
    "\n",
    "plt.title('Kepplerjev problem')\n",
    "\n",
    "plt.xlabel('x')\n",
    "plt.ylabel('y')\n",
    "plt.grid()\n",
    "\n",
    "plt.axis('equal')"
   ]
  },
  {
   "cell_type": "markdown",
   "metadata": {},
   "source": [
    "## Klasični model vodikovega iona $H_2^+$\n",
    "\n",
    "Obravnavajmo problem treh teles, pri čemer bomo predpostavili, da sta protona $p$ nepremična, elektron $e$ pa se giblje v njunem potencialu.\n",
    "\n",
    "<img src=\"imgs/hydrogenIon.png\" style=\"width:200px; margin:0px;\">\n",
    "\n",
    "$$F_j = - \\frac{e_0^2}{4\\pi\\epsilon_0 r_j^2} \\frac{\\mathbf{r}_j}{r_j},\\qquad j=1,2$$\n",
    "\n",
    "$\\mathbf{F}_j$ ... elektrostatična sila $j$-tega protona $p$ na elektron $e$<br>\n",
    "$\\mathbf{r}_j$ ... vektor od lege $j$-tega protona $p$ do lege elektrona $e$\n",
    "\n",
    "Poskusi najti kakšno zanimivo orbito, npr. podobno tisti, ki si jo videl/a na [spletni strani](http://zimskasola.fmf.uni-lj.si/#delavnice)."
   ]
  },
  {
   "cell_type": "code",
   "execution_count": null,
   "metadata": {},
   "outputs": [],
   "source": []
  },
  {
   "cell_type": "code",
   "execution_count": null,
   "metadata": {},
   "outputs": [],
   "source": []
  },
  {
   "cell_type": "code",
   "execution_count": null,
   "metadata": {},
   "outputs": [],
   "source": []
  }
 ],
 "metadata": {
  "kernelspec": {
   "display_name": "Python 3",
   "language": "python",
   "name": "python3"
  },
  "language_info": {
   "codemirror_mode": {
    "name": "ipython",
    "version": 3
   },
   "file_extension": ".py",
   "mimetype": "text/x-python",
   "name": "python",
   "nbconvert_exporter": "python",
   "pygments_lexer": "ipython3",
   "version": "3.7.4"
  }
 },
 "nbformat": 4,
 "nbformat_minor": 2
}

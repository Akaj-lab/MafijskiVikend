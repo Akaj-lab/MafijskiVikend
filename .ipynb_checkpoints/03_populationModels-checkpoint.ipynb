{
 "cells": [
  {
   "cell_type": "code",
   "execution_count": 3,
   "metadata": {},
   "outputs": [],
   "source": [
    "import numpy as np\n",
    "import matplotlib.pyplot as plt"
   ]
  },
  {
   "cell_type": "markdown",
   "metadata": {},
   "source": [
    "# Populacijski modeli\n",
    "\n",
    "## Model Lotka–Volterra (Model zajcev in lisic)\n",
    "\n",
    "<img src=\"imgs/rabbit.png\" style=\"width:200px; margin:0px;\">\n",
    "\n",
    "<br>\n",
    "\n",
    "**Dve populaciji:**\n",
    "- zajci: $Z(t)$\n",
    "- lisice: $L(t)$\n",
    "\n",
    "**Model:**\n",
    "\n",
    "$\\frac{\\Delta Z}{\\Delta t} = + \\alpha Z - \\beta ZL$\n",
    "\n",
    "$\\frac{\\Delta L}{\\Delta t} = - \\gamma L + \\delta ZL$\n"
   ]
  },
  {
   "cell_type": "code",
   "execution_count": 1,
   "metadata": {},
   "outputs": [],
   "source": [
    "# Napiši program, s katerim boš lahko za različne parametre (alpha, beta, gamma, delta) spremljal/a\n",
    "# dinamiko populacij zajcev in lisic.\n",
    "# Narišeš lahko časovna razvoja (t,Z(t)) in (t,L(t)), ali pa dinamiko predstaviš v t.i. faznem prostoru (Z(t),L(t))."
   ]
  },
  {
   "cell_type": "code",
   "execution_count": null,
   "metadata": {},
   "outputs": [],
   "source": []
  },
  {
   "cell_type": "code",
   "execution_count": null,
   "metadata": {},
   "outputs": [],
   "source": []
  },
  {
   "cell_type": "code",
   "execution_count": null,
   "metadata": {},
   "outputs": [],
   "source": []
  },
  {
   "cell_type": "code",
   "execution_count": null,
   "metadata": {},
   "outputs": [],
   "source": []
  },
  {
   "cell_type": "code",
   "execution_count": null,
   "metadata": {},
   "outputs": [],
   "source": []
  },
  {
   "cell_type": "markdown",
   "metadata": {},
   "source": [
    "## BONUS: Kaotični dinamični sistem"
   ]
  },
  {
   "cell_type": "markdown",
   "metadata": {},
   "source": [
    "Enostaven (diskretni) populacijski model lahko modeliramo tudi z logistično funkcijo:\n",
    "    \n",
    "$$ x_{n+1} = r x_n (1-x_n) $$\n",
    "\n",
    "$x_n$ ... populacija na $n$-tem koraku<br>\n",
    "$r$ ... parameter v modelu; $r<4$"
   ]
  },
  {
   "cell_type": "code",
   "execution_count": 38,
   "metadata": {},
   "outputs": [],
   "source": [
    "def logistic(r, x):\n",
    "    return r * x * (1 - x)"
   ]
  },
  {
   "cell_type": "code",
   "execution_count": 64,
   "metadata": {
    "scrolled": true
   },
   "outputs": [
    {
     "data": {
      "application/vnd.jupyter.widget-view+json": {
       "model_id": "8ba2a89022a143dd84359022e57f4f95",
       "version_major": 2,
       "version_minor": 0
      },
      "text/plain": [
       "interactive(children=(FloatSlider(value=0.5, description='r', max=4.0, min=0.5, step=0.01), IntSlider(value=10…"
      ]
     },
     "metadata": {},
     "output_type": "display_data"
    }
   ],
   "source": [
    "\"\"\" Oglej si, kako se z iteriranjem zgornje enačbe spreminja x za različne vrednosti parametra r. \"\"\"\n",
    "\n",
    "from ipywidgets import interactive, Label, Layout, FloatSlider\n",
    "\n",
    "def model(r=0.5, n=10):\n",
    "    fig=plt.figure()\n",
    "    \n",
    "    iterations = range(n-1)\n",
    "    \n",
    "    x = 1e-5\n",
    "    xs = []\n",
    "    \n",
    "    for i in iterations:\n",
    "        x = logistic(r, x)\n",
    "        xs.append(x)\n",
    "        \n",
    "    if n<100:\n",
    "        plt.plot(iterations, xs, '.-k', alpha=1)\n",
    "    else:\n",
    "        plt.plot(iterations, xs, ',k', alpha=1)\n",
    "        \n",
    "    plt.xlabel(r'iteracija ($n$)')\n",
    "    plt.ylabel(r'vrednost ($x_n$)')\n",
    "    \n",
    "    plt.ylim([-0.1,1.1])\n",
    "    plt.text(0,0.95,r\"$x_{n+1}=rx_n(1-x_n)$\"+f\"\\nr={r}; n={n}\")\n",
    "    plt.show()\n",
    "    \n",
    "    return iterations, xs\n",
    "\n",
    "w=interactive(model, r=(0.5,4,0.01), n=(0,500,1))\n",
    "w"
   ]
  },
  {
   "cell_type": "markdown",
   "metadata": {},
   "source": [
    "Poskusi narisati [bifurkacijski diagram](https://en.wikipedia.org/wiki/Bifurcation_diagram)\n",
    "\n",
    "<img src=\"https://upload.wikimedia.org/wikipedia/commons/f/fb/Diagram_bifurkacji_anim_small.gif\" style=\"width:300px; margin:0px;\">"
   ]
  },
  {
   "cell_type": "code",
   "execution_count": null,
   "metadata": {},
   "outputs": [],
   "source": []
  },
  {
   "cell_type": "code",
   "execution_count": null,
   "metadata": {},
   "outputs": [],
   "source": []
  },
  {
   "cell_type": "code",
   "execution_count": null,
   "metadata": {},
   "outputs": [],
   "source": []
  },
  {
   "cell_type": "code",
   "execution_count": null,
   "metadata": {},
   "outputs": [],
   "source": []
  },
  {
   "cell_type": "code",
   "execution_count": null,
   "metadata": {},
   "outputs": [],
   "source": []
  }
 ],
 "metadata": {
  "kernelspec": {
   "display_name": "Python 3",
   "language": "python",
   "name": "python3"
  },
  "language_info": {
   "codemirror_mode": {
    "name": "ipython",
    "version": 3
   },
   "file_extension": ".py",
   "mimetype": "text/x-python",
   "name": "python",
   "nbconvert_exporter": "python",
   "pygments_lexer": "ipython3",
   "version": "3.7.4"
  }
 },
 "nbformat": 4,
 "nbformat_minor": 2
}

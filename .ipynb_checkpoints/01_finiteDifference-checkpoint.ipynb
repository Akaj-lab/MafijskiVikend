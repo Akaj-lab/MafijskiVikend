{
 "cells": [
  {
   "cell_type": "code",
   "execution_count": null,
   "metadata": {},
   "outputs": [],
   "source": [
    "import numpy as np\n",
    "import matplotlib.pyplot as plt"
   ]
  },
  {
   "cell_type": "markdown",
   "metadata": {},
   "source": [
    "# Končne diference\n",
    "## Premoenakomerno gibanje\n",
    "\n",
    "<img src=\"imgs/vozicekKonstHitrost.png\" style=\"width:400px; margin:0px;\">"
   ]
  },
  {
   "cell_type": "code",
   "execution_count": null,
   "metadata": {},
   "outputs": [],
   "source": [
    "x0 = 0 # začetna lega = 0 m (od izhodišča)\n",
    "v0 = 1 # začetna hitrost = 1 m/s\n",
    "\n",
    "# čas:\n",
    "t0 = 0 # začetni čas = 0 s (ko začnemo meriti čas)\n",
    "t_final = 10 # končni čas\n",
    "N = 10 # število korakov od začetnega do končnega časa\n",
    "\n",
    "t = np.linspace(t0, t_final, N, endpoint=False) # v sekundah\n",
    "print(t)"
   ]
  },
  {
   "cell_type": "code",
   "execution_count": null,
   "metadata": {},
   "outputs": [],
   "source": [
    "\"\"\" Narišimo graf za premoenakomerno gibanje \"\"\"\n",
    "\n",
    "plt.plot(t, [v0]*t.size , '.-', label='hitrost (v) [m/s]')\n",
    "plt.plot(t, v0*t , '.-', label='lega (x) [m]')\n",
    "\n",
    "plt.xlabel('čas (t) [s]')\n",
    "plt.legend()\n",
    "plt.grid()"
   ]
  },
  {
   "cell_type": "markdown",
   "metadata": {},
   "source": [
    "**Hitrost:**\n",
    "\n",
    "$$ v = \\frac{\\Delta x}{\\Delta t} = \\frac{x(t_{i+1})-x(t_{i})))}{t_{i+1}-t_i} $$\n",
    "\n",
    "$t_i$ ... $i$-ti časovni trenutek<br>\n",
    "$\\Delta t$ ... sprememba časa oz. velikost časovnega koraka: $\\Delta t=t_{i+1}-t_i$<br>\n",
    "$\\Delta x$ ... sprememba lege oz. premik: $\\Delta x = x(t_{i+1})-x(t_{i})$<br>\n",
    "\n",
    "\n",
    "**Lega:**\n",
    "\n",
    "$$ x(t_{i+1}) = x(t_i) + v \\, \\Delta t $$\n",
    "ali krajše:\n",
    "$$ x_{i+1} = x_i + v \\, \\Delta t $$\n",
    "\n",
    "Torej, novo lego $x_{i+1}$ dobimo tako, da k prejšnji legi $x_{i}$ prištejemo **končen premik/končno diferenco**, ki je enak/a $v \\, \\Delta t$.\n",
    "\n",
    "<br>\n",
    "\n",
    "**Komentar**: \"Markdown celico\" (tako kot je ta) lahko ustvariš tudi sam/a s klikom v opravilni vrstici: `Cell` $\\rightarrow$ `Cell Type` $\\rightarrow$ `Markdown`"
   ]
  },
  {
   "cell_type": "code",
   "execution_count": null,
   "metadata": {},
   "outputs": [],
   "source": [
    "''' Izračunajmo lego s končnimi diferencami '''\n",
    "\n",
    "# Začetni pogoji:\n",
    "t = [0] # [s]\n",
    "x = [0] # [m]\n",
    "v = [1] # [m/s]\n",
    "\n",
    "# Račun s končnimi diferencami:\n",
    "t_final = 10 # končni čas\n",
    "N = 10 # število korakov\n",
    "\n",
    "dt = t_final/N # velikost časovnega koraka [s]\n",
    "print(f'dt = {dt}')\n",
    "\n",
    "for i in range(N):\n",
    "    # iz tabel (t, x, v) preberi prejšnje vrednosti časa, lege in hitrosti:\n",
    "    t_i, x_i, v_i = t[-1], x[-1], v[-1]\n",
    "    \n",
    "    # izračunaj čas, lego in hitrost po časovnem premiku dt:  \n",
    "    t_i1 = t_i + dt\n",
    "    v_i1 = v_i # se ne spreminja!\n",
    "    x_i1 = x_i + v_i*dt\n",
    "    \n",
    "    # dodamo nove vrednosti v tabele:\n",
    "    t.append(t_i1)\n",
    "    x.append(x_i1)\n",
    "    v.append(v_i1)\n",
    "\n",
    "# print(f't = {t}')"
   ]
  },
  {
   "cell_type": "code",
   "execution_count": null,
   "metadata": {},
   "outputs": [],
   "source": [
    "plt.plot(t, v, '.-', label='hitrost (v) [m/s]')\n",
    "plt.plot(t, x, '.-', label='lega (x) [m]')\n",
    "\n",
    "plt.title('Račun s končnimi diferencami')\n",
    "plt.xlabel('čas (t) [s]')\n",
    "plt.legend()\n",
    "plt.grid()"
   ]
  },
  {
   "cell_type": "markdown",
   "metadata": {},
   "source": [
    "## Enakomerno pospešeno gibanje\n",
    "\n",
    "<img src=\"imgs/vozicekKonstPospesek.png\" style=\"width:400px; margin:0px;\">\n",
    "\n",
    "**Pospešek:**\n",
    "\n",
    "$$ a = \\frac{\\Delta v}{\\Delta t} = \\frac{v(t_{i+1})-v(t_{i})))}{t_{i+1}-t_i} $$\n",
    "\n",
    "$t_i$ ... $i$-ti časovni trenutek<br>\n",
    "$\\Delta t$ ... sprememba časa oz. velikost časovnega koraka: $\\Delta t=t_{i+1}-t_i$<br>\n",
    "$\\Delta v$ ... sprememba hitrosti: $\\Delta v = v(t_{i+1})-v(t_{i})$<br>\n",
    "\n",
    "\n",
    "**Hitrost:**\n",
    "\n",
    "$$ v(t_{i+1}) = v(t_i) + a \\, \\Delta t $$\n",
    "ali krajše:\n",
    "$$ v_{i+1} = v_i + a \\, \\Delta t $$\n",
    "\n",
    "**Lega:**\n",
    "\n",
    "$$ x_{i+1} = x_i + v_i \\, \\Delta t $$"
   ]
  },
  {
   "cell_type": "code",
   "execution_count": null,
   "metadata": {},
   "outputs": [],
   "source": [
    "# Začetni pogoji:\n",
    "t = [0] # [s]\n",
    "x = [0] # [m]\n",
    "v = [0] # [m/s]\n",
    "a = 1 # [m/s^2] # <-- v izračun smo dodali konst. pospešek (število)\n",
    "\n",
    "# Račun s končnimi diferencami:\n",
    "t_final = 10\n",
    "N = 10 # <-- spreminjaj število korakov\n",
    "\n",
    "dt = t_final/N # velikost časovnega koraka [s]\n",
    "print(f'dt = {dt}')\n",
    "\n",
    "for i in range(N):\n",
    "    t_i, x_i, v_i = t[-1], x[-1], v[-1]\n",
    "    \n",
    "    t_i1 = t_i + dt\n",
    "    v_i1 = v_i # + ??? # <-- hitrost SE spreminja\n",
    "    x_i1 = x_i + v_i*dt\n",
    "    \n",
    "    t.append(t_i1)\n",
    "    x.append(x_i1)\n",
    "    v.append(v_i1)"
   ]
  },
  {
   "cell_type": "code",
   "execution_count": null,
   "metadata": {},
   "outputs": [],
   "source": [
    "plt.plot(t, v, '.-', label='hitrost (v) [m/s]')\n",
    "plt.plot(t, x, '.-', label='lega (x) [m]')\n",
    "plt.plot(t, np.array(t)**2/2, '--k', label='lega: analitična rešitev')\n",
    "\n",
    "plt.title('Račun s končnimi diferencami')\n",
    "plt.xlabel('čas (t) [s]')\n",
    "plt.legend()\n",
    "plt.grid()"
   ]
  },
  {
   "cell_type": "markdown",
   "metadata": {},
   "source": [
    "## Matematično nihalo\n",
    "\n",
    "<img src=\"imgs/matematicnoNihalo.png\" style=\"width:600px; margin:0px;\">\n",
    "\n",
    "Nariši, kako se zasuk $\\varphi$ spreminja s časom. Pomagaj si s kodo iz razdelka **Enakomerno pospešeno gibanje**.\n",
    "\n",
    "**Slovarček:**<br>\n",
    "x $\\leftrightarrow$ $\\varphi$ (kot/zasuk)<br>\n",
    "v $\\leftrightarrow$ $\\omega$ (kotna hitrost)<br>\n",
    "a $\\leftrightarrow$ $\\alpha$ (kotni pospešek)<br>"
   ]
  },
  {
   "cell_type": "code",
   "execution_count": null,
   "metadata": {},
   "outputs": [],
   "source": [
    "# Začetni pogoji:\n",
    "t = [0] # [s]\n",
    "x = [0] # []\n",
    "v = [0.01] # [1/s]\n",
    "a = 0 # [1/s^2] # Pozor: s časom se bo spreminjal tudi pospešek\n",
    "\n",
    "#\n",
    "# Poskusi sam/a...\n"
   ]
  },
  {
   "cell_type": "code",
   "execution_count": null,
   "metadata": {},
   "outputs": [],
   "source": [
    "# Preizkusi, kako se kvalitativno spreminja rezultat, če spreminjaš začetno kotno hitrost (v).\n",
    "# Ali je nihanje sinusno?\n",
    "# Ali se spreminja nihajni čas (perioda nihanja) T?\n",
    "# Če se, poskusi narisati tudi, kako se dolžina nihajnega časa spreminja v odvisnosti od začetne kotne hitrosti.\n",
    "\n",
    "plt.plot(t, x, '.-', label=r'kot ($\\varphi$)')\n",
    "\n",
    "plt.title('Matematično nihalo')\n",
    "plt.xlabel('čas (t) [s]')\n",
    "plt.legend()\n",
    "plt.grid()"
   ]
  },
  {
   "cell_type": "code",
   "execution_count": null,
   "metadata": {},
   "outputs": [],
   "source": []
  }
 ],
 "metadata": {
  "kernelspec": {
   "display_name": "Python 3",
   "language": "python",
   "name": "python3"
  },
  "language_info": {
   "codemirror_mode": {
    "name": "ipython",
    "version": 3
   },
   "file_extension": ".py",
   "mimetype": "text/x-python",
   "name": "python",
   "nbconvert_exporter": "python",
   "pygments_lexer": "ipython3",
   "version": "3.7.4"
  }
 },
 "nbformat": 4,
 "nbformat_minor": 2
}
